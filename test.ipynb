{
 "cells": [
  {
   "cell_type": "code",
   "execution_count": 1,
   "id": "a85346cc",
   "metadata": {},
   "outputs": [],
   "source": [
    "import numpy as np"
   ]
  },
  {
   "cell_type": "code",
   "execution_count": null,
   "id": "754812d3",
   "metadata": {},
   "outputs": [],
   "source": []
  },
  {
   "cell_type": "code",
   "execution_count": 8,
   "id": "f15e5097",
   "metadata": {},
   "outputs": [],
   "source": [
    "import torch\n",
    "from torch import nn\n",
    "from CCN.ccn.constraints_layer import ConstraintsLayer\n",
    "from CCN.ccn.constraints_group import ConstraintsGroup\n",
    "from CCN.ccn.constraint import Constraint\n",
    "from CCN.ccn.clauses_group import ClausesGroup\n"
   ]
  },
  {
   "cell_type": "code",
   "execution_count": 9,
   "id": "4bcb5400",
   "metadata": {},
   "outputs": [
    {
     "name": "stdout",
     "output_type": "stream",
     "text": [
      "['20 :- 0\\n', '20 :- 1\\n', '20 :- 3\\n', '20 :- 5\\n', '20 :- 6\\n', '20 :- 13\\n', '20 :- 18\\n', '21 :- 2\\n', '21 :- 7\\n', '21 :- 9\\n', '21 :- 11\\n', '21 :- 12\\n', '21 :- 16\\n', '22 :- 4\\n', '22 :- 8\\n', '22 :- 10\\n', '22 :- 15\\n', '22 :- 17\\n', '22 :- 19']\n"
     ]
    }
   ],
   "source": [
    "with open('spmll/rules.txt', 'r') as f:\n",
    "    print(f.readlines())\n",
    "    for line in f:\n",
    "        print(line)"
   ]
  },
  {
   "cell_type": "code",
   "execution_count": 12,
   "id": "7b1d5650",
   "metadata": {},
   "outputs": [
    {
     "name": "stdout",
     "output_type": "stream",
     "text": [
      "<generator object ConstraintsGroup.__init__.<locals>.<genexpr> at 0x000001C2C2C09F50>\n"
     ]
    }
   ],
   "source": [
    "rules_path = \"spmll/rules.txt\"\n",
    "group   = ConstraintsGroup(rules_path)\n",
    "clauses = ClausesGroup.from_constraints_group(group)\n",
    "layer   = ConstraintsLayer.from_clauses_group(clauses, num_classes=23, centrality=\"katz\")"
   ]
  },
  {
   "cell_type": "code",
   "execution_count": 11,
   "id": "d71ced02",
   "metadata": {},
   "outputs": [
    {
     "data": {
      "text/plain": [
       "<CCN.ccn.constraints_group.ConstraintsGroup at 0x1d84a37a890>"
      ]
     },
     "execution_count": 11,
     "metadata": {},
     "output_type": "execute_result"
    }
   ],
   "source": [
    "group"
   ]
  },
  {
   "cell_type": "code",
   "execution_count": 13,
   "id": "d9925446",
   "metadata": {},
   "outputs": [],
   "source": [
    "id2name = {\n",
    "    0:'aeroplane',1:'bicycle',2:'bird',3:'boat',4:'bottle',\n",
    "    5:'bus',6:'car',7:'cat',8:'chair',9:'cow',\n",
    "    10:'diningtable',11:'dog',12:'horse',13:'motorbike',14:'person',\n",
    "    15:'pottedplant',16:'sheep',17:'sofa',18:'train',19:'tvmonitor', 20:'vehicle', 21:'animal', 22:'indoor'\n",
    "}\n"
   ]
  },
  {
   "cell_type": "code",
   "execution_count": null,
   "id": "84a979a8",
   "metadata": {},
   "outputs": [
    {
     "name": "stdout",
     "output_type": "stream",
     "text": [
      "Coherent after layer?  True\n",
      "Example (car→person) before/after: \n",
      "car,vehicle before: [0.4900934100151062, 0.6816085577011108]\n",
      "car,vehicle after:  [0.4900934100151062, 0.7682217955589294]\n"
     ]
    }
   ],
   "source": [
    "import torch\n",
    "from torch import nn\n",
    "from CCN.ccn.constraints_layer import ConstraintsLayer\n",
    "from CCN.ccn.constraints_group import ConstraintsGroup\n",
    "from CCN.ccn.constraint import Constraint\n",
    "from CCN.ccn.clauses_group import ClausesGroup\n",
    "\n",
    "rules_path = \"spmll/rules.txt\"\n",
    "group   = ConstraintsGroup(rules_path)\n",
    "clauses = ClausesGroup.from_constraints_group(group)\n",
    "layer   = ConstraintsLayer.from_clauses_group(clauses, num_classes=23, centrality=\"katz\")\n",
    "torch.manual_seed(0)\n",
    "preds = torch.rand(8, 23)\n",
    "updated = layer(preds)\n",
    "print(\"Coherent after layer? \", group.coherent_with(updated.cpu().numpy()).all())\n",
    "print(\"Example (car→person) before/after: \")\n",
    "i = 0\n",
    "print(\"car,vehicle before:\", preds[i,[6,20]].tolist())\n",
    "print(\"car,vehicle after: \", updated[i,[6,20]].tolist())\n"
   ]
  },
  {
   "cell_type": "code",
   "execution_count": 15,
   "id": "1e6732be",
   "metadata": {},
   "outputs": [
    {
     "data": {
      "text/plain": [
       "tensor([0.4963, 0.7682, 0.0885, 0.1320, 0.3074, 0.6341, 0.4901, 0.8964, 0.4556,\n",
       "        0.6323, 0.3489, 0.4017, 0.0223, 0.1689, 0.2939, 0.5185, 0.6977, 0.8000,\n",
       "        0.1610, 0.2823, 0.6816, 0.9152, 0.3971])"
      ]
     },
     "execution_count": 15,
     "metadata": {},
     "output_type": "execute_result"
    }
   ],
   "source": [
    "preds[0]"
   ]
  },
  {
   "cell_type": "code",
   "execution_count": 16,
   "id": "5a2f95fb",
   "metadata": {},
   "outputs": [
    {
     "name": "stdout",
     "output_type": "stream",
     "text": [
      "aeroplane 0.49625658988952637 0.49625658988952637\n",
      "bicycle 0.7682217955589294 0.7682217955589294\n",
      "bird 0.08847743272781372 0.08847743272781372\n",
      "boat 0.13203048706054688 0.13203048706054688\n",
      "bottle 0.30742281675338745 0.30742281675338745\n",
      "bus 0.6340786814689636 0.6340786814689636\n",
      "car 0.4900934100151062 0.4900934100151062\n",
      "cat 0.8964447379112244 0.8964447379112244\n",
      "chair 0.455627977848053 0.455627977848053\n",
      "cow 0.6323062777519226 0.6323062777519226\n",
      "diningtable 0.3488934636116028 0.3488934636116028\n",
      "dog 0.40171730518341064 0.40171730518341064\n",
      "horse 0.022325754165649414 0.022325754165649414\n",
      "motorbike 0.16885894536972046 0.16885894536972046\n",
      "person 0.2938884496688843 0.2938884496688843\n",
      "pottedplant 0.518521785736084 0.518521785736084\n",
      "sheep 0.6976675987243652 0.6976675987243652\n",
      "sofa 0.800011396408081 0.800011396408081\n",
      "train 0.16102945804595947 0.16102945804595947\n",
      "tvmonitor 0.28226858377456665 0.28226858377456665\n",
      "vehicle 0.6816085577011108 0.7682217955589294\n",
      "animal 0.9151939749717712 0.9151939749717712\n",
      "indoor 0.39709991216659546 0.800011396408081\n"
     ]
    }
   ],
   "source": [
    "for k, v in id2name.items():\n",
    "    print(v, preds[0,k].item(), updated[0,k].item())\n"
   ]
  },
  {
   "cell_type": "code",
   "execution_count": 17,
   "id": "b2243ad9",
   "metadata": {},
   "outputs": [],
   "source": [
    "import torch\n",
    "import numpy as np\n",
    "\n",
    "def ratio_for_modules(layer, k_modules=1):\n",
    "    \"\"\"Smallest ratio that activates at least k_modules strata.\"\"\"\n",
    "    for r in [i/100 for i in range(0, 101)]:\n",
    "        _, m = layer.gradual_prefix(r)\n",
    "        if m >= k_modules:\n",
    "            return r\n",
    "    return 1.0  # fallback\n",
    "\n",
    "def apply_constraints_safe(layer, group, probs, epoch, total_epochs,\n",
    "                           start_ratio=0.30, end_ratio=1.00,\n",
    "                           tau=0.70, delta_cap=0.15, min_modules=1):\n",
    "    \"\"\"\n",
    "    Soft-ish enforcement:\n",
    "      - curriculum with ≥min_modules active\n",
    "      - goal-gating with threshold tau\n",
    "      - delta cap to avoid big jumps\n",
    "    \"\"\"\n",
    "    # curriculum ratio, but ensure >= min_modules\n",
    "    raw_ratio = start_ratio + (end_ratio - start_ratio) * (epoch / max(1, total_epochs-1))\n",
    "    need = ratio_for_modules(layer, min_modules)\n",
    "    ratio = max(raw_ratio, need)\n",
    "    slicer = layer.slicer(ratio)\n",
    "\n",
    "    # goal-gating\n",
    "    goal = (probs > tau).float()\n",
    "\n",
    "    # run layer\n",
    "    updated = layer(probs, goal=goal, slicer=slicer, iterative=True)\n",
    "\n",
    "    # delta-cap (only cap upward moves)\n",
    "    capped = torch.minimum(updated, probs + delta_cap)\n",
    "\n",
    "    # quick monitor\n",
    "    vb = 1.0 - float(group.coherent_with(probs.detach().cpu().numpy()).mean())\n",
    "    va = 1.0 - float(group.coherent_with(capped.detach().cpu().numpy()).mean())\n",
    "    atoms, modules = layer.gradual_prefix(ratio)\n",
    "    print(f\"[epoch={epoch}] ratio={ratio:.2f}  modules={modules}  atoms={len(atoms)}  \"\n",
    "          f\"viol_before={vb:.3f}  viol_after={va:.3f}\")\n",
    "    return capped, {\"ratio\": ratio, \"modules\": modules}\n"
   ]
  },
  {
   "cell_type": "code",
   "execution_count": 18,
   "id": "368b100f",
   "metadata": {},
   "outputs": [
    {
     "name": "stdout",
     "output_type": "stream",
     "text": [
      "Created slicer for 1 modules (atoms {0, 1, 2, 3, 4, 5, 6, 7, 8, 9, 10, 11, 12, 13, 14, 15, 16, 17, 18, 19})\n",
      "[epoch=0] ratio=1.00  modules=1  atoms=20  viol_before=0.500  viol_after=0.312\n",
      "Example (car→person) before/after with safety:\n",
      "car,person before: [0.4900934100151062, 0.2938884496688843]\n",
      "car,person after:  [0.4900934100151062, 0.44388845562934875]\n",
      "coherent after layer? False\n"
     ]
    }
   ],
   "source": [
    "# your example\n",
    "torch.manual_seed(0)\n",
    "preds = torch.rand(8, 20)\n",
    "\n",
    "# pick some training context (for curriculum)\n",
    "epoch = 0\n",
    "total_epochs = 10\n",
    "\n",
    "# apply safe constraints\n",
    "probs_cons, info = apply_constraints_safe(\n",
    "    layer, group, preds, epoch, total_epochs,\n",
    "    start_ratio=0.30, end_ratio=1.00,\n",
    "    tau=0.70,           # confidence gate (raise to be safer, e.g. 0.75–0.80)\n",
    "    delta_cap=0.15,     # max allowed upward jump\n",
    "    min_modules=1       # ensure we actually apply at least one stratum\n",
    ")\n",
    "\n",
    "# show the (car -> person) effect on a sample\n",
    "i = 0\n",
    "print(\"Example (car→person) before/after with safety:\")\n",
    "print(\"car,person before:\", preds[i, [6, 14]].tolist())\n",
    "print(\"car,person after: \", probs_cons[i, [6, 14]].tolist())\n",
    "print(\"coherent after layer?\", group.coherent_with(probs_cons.detach().cpu().numpy()).all())\n"
   ]
  },
  {
   "cell_type": "code",
   "execution_count": 19,
   "id": "85851a07",
   "metadata": {},
   "outputs": [
    {
     "data": {
      "text/plain": [
       "tensor([[0.4963, 0.7682, 0.0885, 0.1320, 0.3074, 0.6341, 0.4901, 0.8964, 0.4556,\n",
       "         0.6323, 0.3489, 0.4017, 0.0223, 0.1689, 0.2939, 0.5185, 0.6977, 0.8000,\n",
       "         0.1610, 0.2823],\n",
       "        [0.6816, 0.9152, 0.3971, 0.8742, 0.4194, 0.5529, 0.9527, 0.0362, 0.1852,\n",
       "         0.3734, 0.3051, 0.9320, 0.1759, 0.2698, 0.1507, 0.0317, 0.2081, 0.9298,\n",
       "         0.7231, 0.7423],\n",
       "        [0.5263, 0.2437, 0.5846, 0.0332, 0.1387, 0.2422, 0.8155, 0.7932, 0.2783,\n",
       "         0.4820, 0.8198, 0.9971, 0.6984, 0.5675, 0.8352, 0.2056, 0.5932, 0.1123,\n",
       "         0.1535, 0.2417],\n",
       "        [0.7262, 0.7011, 0.2038, 0.6511, 0.7745, 0.4369, 0.5191, 0.6159, 0.8102,\n",
       "         0.9801, 0.1147, 0.3168, 0.6965, 0.9143, 0.9351, 0.9412, 0.5995, 0.0652,\n",
       "         0.5460, 0.1872],\n",
       "        [0.0340, 0.9442, 0.8802, 0.0012, 0.5936, 0.4158, 0.4177, 0.2711, 0.6923,\n",
       "         0.2038, 0.6833, 0.7529, 0.8579, 0.6870, 0.0051, 0.1757, 0.7497, 0.6047,\n",
       "         0.1100, 0.2121],\n",
       "        [0.9704, 0.8369, 0.2820, 0.3742, 0.0237, 0.4910, 0.1235, 0.1143, 0.4725,\n",
       "         0.5751, 0.2952, 0.7967, 0.1957, 0.9537, 0.8426, 0.0784, 0.3756, 0.5226,\n",
       "         0.5730, 0.6186],\n",
       "        [0.6962, 0.5300, 0.2560, 0.7366, 0.0204, 0.2036, 0.3748, 0.2564, 0.3251,\n",
       "         0.0902, 0.3936, 0.6069, 0.1743, 0.4743, 0.8579, 0.4486, 0.5139, 0.4569,\n",
       "         0.6012, 0.8179],\n",
       "        [0.9736, 0.8175, 0.9747, 0.4638, 0.0508, 0.2630, 0.8405, 0.4968, 0.2515,\n",
       "         0.1168, 0.0321, 0.0780, 0.3986, 0.7742, 0.7703, 0.0178, 0.8119, 0.1087,\n",
       "         0.3943, 0.2973]])"
      ]
     },
     "execution_count": 19,
     "metadata": {},
     "output_type": "execute_result"
    }
   ],
   "source": [
    "preds"
   ]
  },
  {
   "cell_type": "code",
   "execution_count": 20,
   "id": "b3b72ca5",
   "metadata": {},
   "outputs": [
    {
     "name": "stdout",
     "output_type": "stream",
     "text": [
      "Total images: 11540\n",
      "Per-class counts: [670, 552, 765, 508, 706, 421, 1161, 1080, 1119, 303, 538, 1286, 482, 526, 4087, 527, 325, 507, 544, 575]\n"
     ]
    }
   ],
   "source": [
    "import numpy as np\n",
    "import math\n",
    "\n",
    "# --- paths: adjust if yours differ ---\n",
    "train_path = \"spmll/data/pascal/formatted_train_labels.npy\"\n",
    "val_path   = \"spmll/data/pascal/formatted_val_labels.npy\"\n",
    "\n",
    "Y_train = np.load(train_path)   # shape: (N_train, 20), 0/1 float\n",
    "Y_val   = np.load(val_path)     # shape: (N_val, 20), 0/1 float\n",
    "\n",
    "Y = np.vstack([Y_train, Y_val]).astype(np.int64)  # (N, 20) ints\n",
    "\n",
    "# counts per class\n",
    "counts = Y.sum(axis=0)                          # (20,)\n",
    "\n",
    "# co-occurrence counts: M[i,j] = #images where i and j both present\n",
    "M = (Y.T @ Y)                                   # (20, 20), symmetric, diag=counts\n",
    "\n",
    "print(\"Total images:\", Y.shape[0])\n",
    "print(\"Per-class counts:\", counts.tolist())\n"
   ]
  },
  {
   "cell_type": "code",
   "execution_count": 23,
   "id": "53e84a8a",
   "metadata": {},
   "outputs": [
    {
     "data": {
      "text/plain": [
       "array([[ 670,    0,    1,    4,    0,    2,   35,    0,    1,    0,    0,\n",
       "           0,    0,    1,   61,    1,    0,    0,    0,    0],\n",
       "       [   0,  552,    1,    1,   31,   10,   73,    3,   17,    2,    3,\n",
       "           2,    0,   16,  298,   19,    0,    4,    2,    4],\n",
       "       [   1,    1,  765,    8,    3,    0,    2,    2,    5,    2,    1,\n",
       "           5,    2,    0,   26,    4,    4,    0,    0,    1],\n",
       "       [   4,    1,    8,  508,    3,    4,   14,    0,    8,    1,    3,\n",
       "           3,    0,    5,  158,    6,    0,    2,    1,    1],\n",
       "       [   0,   31,    3,    3,  706,    1,   17,   16,  117,    0,  152,\n",
       "          23,    2,    4,  392,   37,    4,   33,    0,   61],\n",
       "       [   2,   10,    0,    4,    1,  421,  141,    0,    0,    0,    0,\n",
       "           1,    0,    9,  180,    2,    1,    0,    3,    0],\n",
       "       [  35,   73,    2,   14,   17,  141, 1161,    5,   15,    5,    6,\n",
       "          33,   20,   99,  445,   17,    4,    2,   19,    5],\n",
       "       [   0,    3,    2,    0,   16,    0,    5, 1080,   53,    1,   14,\n",
       "          29,    0,    0,   59,   27,    1,   29,    0,   21],\n",
       "       [   1,   17,    5,    8,  117,    0,   15,   53, 1119,    0,  337,\n",
       "          53,    2,    5,  426,  174,    0,  145,    2,  167],\n",
       "       [   0,    2,    2,    1,    0,    0,    5,    1,    0,  303,    0,\n",
       "           2,    2,    1,   42,    0,    1,    0,    0,    0],\n",
       "       [   0,    3,    1,    3,  152,    0,    6,   14,  337,    0,  538,\n",
       "           5,    0,    0,  267,   80,    0,   40,    0,   24],\n",
       "       [   0,    2,    5,    3,   23,    1,   33,   29,   53,    2,    5,\n",
       "        1286,    4,    3,  244,   31,    9,   60,    0,   14],\n",
       "       [   0,    0,    2,    0,    2,    0,   20,    0,    2,    2,    0,\n",
       "           4,  482,    1,  215,    2,    1,    0,    1,    1],\n",
       "       [   1,   16,    0,    5,    4,    9,   99,    0,    5,    1,    0,\n",
       "           3,    1,  526,  294,   13,    3,    1,    0,    0],\n",
       "       [  61,  298,   26,  158,  392,  180,  445,   59,  426,   42,  267,\n",
       "         244,  215,  294, 4087,  148,   48,  189,  129,  191],\n",
       "       [   1,   19,    4,    6,   37,    2,   17,   27,  174,    0,   80,\n",
       "          31,    2,   13,  148,  527,    0,   69,    7,   49],\n",
       "       [   0,    0,    4,    0,    4,    1,    4,    1,    0,    1,    0,\n",
       "           9,    1,    3,   48,    0,  325,    0,    0,    0],\n",
       "       [   0,    4,    0,    2,   33,    0,    2,   29,  145,    0,   40,\n",
       "          60,    0,    1,  189,   69,    0,  507,    1,   69],\n",
       "       [   0,    2,    0,    1,    0,    3,   19,    0,    2,    0,    0,\n",
       "           0,    1,    0,  129,    7,    0,    1,  544,    0],\n",
       "       [   0,    4,    1,    1,   61,    0,    5,   21,  167,    0,   24,\n",
       "          14,    1,    0,  191,   49,    0,   69,    0,  575]])"
      ]
     },
     "execution_count": 23,
     "metadata": {},
     "output_type": "execute_result"
    }
   ],
   "source": [
    "M"
   ]
  },
  {
   "cell_type": "code",
   "execution_count": 29,
   "id": "aeb9223a",
   "metadata": {},
   "outputs": [],
   "source": [
    "id2name = {\n",
    "    0:'aeroplane',1:'bicycle',2:'bird',3:'boat',4:'bottle',\n",
    "    5:'bus',6:'car',7:'cat',8:'chair',9:'cow',\n",
    "    10:'diningtable',11:'dog',12:'horse',13:'motorbike',14:'person',\n",
    "    15:'pottedplant',16:'sheep',17:'sofa',18:'train',19:'tvmonitor'\n",
    "}\n",
    "\n",
    "def report_pair(i, j):\n",
    "    n_i   = int(counts[i])\n",
    "    n_j   = int(counts[j])\n",
    "    n_ij  = int(M[i, j])\n",
    "    if n_ij > 50:\n",
    "        p_i_given_j = (n_ij / n_j) if n_j > 0 else float(\"nan\")\n",
    "        p_j_given_i = (n_ij / n_i) if n_i > 0 else float(\"nan\")\n",
    "        print(f\"{id2name[i]:>12s} & {id2name[j]:<12s} | \"\n",
    "            f\"coocc={n_ij:4d} | \"\n",
    "            f\"P({id2name[i]}|{id2name[j]})={p_i_given_j:6.3f} | \"\n",
    "            f\"P({id2name[j]}|{id2name[i]})={p_j_given_i:6.3f} | \"\n",
    "            f\"counts=({n_i},{n_j})\")\n"
   ]
  },
  {
   "cell_type": "code",
   "execution_count": 32,
   "id": "17be73f1",
   "metadata": {},
   "outputs": [
    {
     "name": "stdout",
     "output_type": "stream",
     "text": [
      "   aeroplane & aeroplane    | coocc= 670 | P(aeroplane|aeroplane)= 1.000 | P(aeroplane|aeroplane)= 1.000 | counts=(670,670)\n",
      "   aeroplane & person       | coocc=  61 | P(aeroplane|person)= 0.015 | P(person|aeroplane)= 0.091 | counts=(670,4087)\n",
      "     bicycle & bicycle      | coocc= 552 | P(bicycle|bicycle)= 1.000 | P(bicycle|bicycle)= 1.000 | counts=(552,552)\n",
      "     bicycle & car          | coocc=  73 | P(bicycle|car)= 0.063 | P(car|bicycle)= 0.132 | counts=(552,1161)\n",
      "     bicycle & person       | coocc= 298 | P(bicycle|person)= 0.073 | P(person|bicycle)= 0.540 | counts=(552,4087)\n",
      "        bird & bird         | coocc= 765 | P(bird|bird)= 1.000 | P(bird|bird)= 1.000 | counts=(765,765)\n",
      "        boat & boat         | coocc= 508 | P(boat|boat)= 1.000 | P(boat|boat)= 1.000 | counts=(508,508)\n",
      "        boat & person       | coocc= 158 | P(boat|person)= 0.039 | P(person|boat)= 0.311 | counts=(508,4087)\n",
      "      bottle & bottle       | coocc= 706 | P(bottle|bottle)= 1.000 | P(bottle|bottle)= 1.000 | counts=(706,706)\n",
      "      bottle & chair        | coocc= 117 | P(bottle|chair)= 0.105 | P(chair|bottle)= 0.166 | counts=(706,1119)\n",
      "      bottle & diningtable  | coocc= 152 | P(bottle|diningtable)= 0.283 | P(diningtable|bottle)= 0.215 | counts=(706,538)\n",
      "      bottle & person       | coocc= 392 | P(bottle|person)= 0.096 | P(person|bottle)= 0.555 | counts=(706,4087)\n",
      "      bottle & tvmonitor    | coocc=  61 | P(bottle|tvmonitor)= 0.106 | P(tvmonitor|bottle)= 0.086 | counts=(706,575)\n",
      "         bus & bus          | coocc= 421 | P(bus|bus)= 1.000 | P(bus|bus)= 1.000 | counts=(421,421)\n",
      "         bus & car          | coocc= 141 | P(bus|car)= 0.121 | P(car|bus)= 0.335 | counts=(421,1161)\n",
      "         bus & person       | coocc= 180 | P(bus|person)= 0.044 | P(person|bus)= 0.428 | counts=(421,4087)\n",
      "         car & bicycle      | coocc=  73 | P(car|bicycle)= 0.132 | P(bicycle|car)= 0.063 | counts=(1161,552)\n",
      "         car & bus          | coocc= 141 | P(car|bus)= 0.335 | P(bus|car)= 0.121 | counts=(1161,421)\n",
      "         car & car          | coocc=1161 | P(car|car)= 1.000 | P(car|car)= 1.000 | counts=(1161,1161)\n",
      "         car & motorbike    | coocc=  99 | P(car|motorbike)= 0.188 | P(motorbike|car)= 0.085 | counts=(1161,526)\n",
      "         car & person       | coocc= 445 | P(car|person)= 0.109 | P(person|car)= 0.383 | counts=(1161,4087)\n",
      "         cat & cat          | coocc=1080 | P(cat|cat)= 1.000 | P(cat|cat)= 1.000 | counts=(1080,1080)\n",
      "         cat & chair        | coocc=  53 | P(cat|chair)= 0.047 | P(chair|cat)= 0.049 | counts=(1080,1119)\n",
      "         cat & person       | coocc=  59 | P(cat|person)= 0.014 | P(person|cat)= 0.055 | counts=(1080,4087)\n",
      "       chair & bottle       | coocc= 117 | P(chair|bottle)= 0.166 | P(bottle|chair)= 0.105 | counts=(1119,706)\n",
      "       chair & cat          | coocc=  53 | P(chair|cat)= 0.049 | P(cat|chair)= 0.047 | counts=(1119,1080)\n",
      "       chair & chair        | coocc=1119 | P(chair|chair)= 1.000 | P(chair|chair)= 1.000 | counts=(1119,1119)\n",
      "       chair & diningtable  | coocc= 337 | P(chair|diningtable)= 0.626 | P(diningtable|chair)= 0.301 | counts=(1119,538)\n",
      "       chair & dog          | coocc=  53 | P(chair|dog)= 0.041 | P(dog|chair)= 0.047 | counts=(1119,1286)\n",
      "       chair & person       | coocc= 426 | P(chair|person)= 0.104 | P(person|chair)= 0.381 | counts=(1119,4087)\n",
      "       chair & pottedplant  | coocc= 174 | P(chair|pottedplant)= 0.330 | P(pottedplant|chair)= 0.155 | counts=(1119,527)\n",
      "       chair & sofa         | coocc= 145 | P(chair|sofa)= 0.286 | P(sofa|chair)= 0.130 | counts=(1119,507)\n",
      "       chair & tvmonitor    | coocc= 167 | P(chair|tvmonitor)= 0.290 | P(tvmonitor|chair)= 0.149 | counts=(1119,575)\n",
      "         cow & cow          | coocc= 303 | P(cow|cow)= 1.000 | P(cow|cow)= 1.000 | counts=(303,303)\n",
      " diningtable & bottle       | coocc= 152 | P(diningtable|bottle)= 0.215 | P(bottle|diningtable)= 0.283 | counts=(538,706)\n",
      " diningtable & chair        | coocc= 337 | P(diningtable|chair)= 0.301 | P(chair|diningtable)= 0.626 | counts=(538,1119)\n",
      " diningtable & diningtable  | coocc= 538 | P(diningtable|diningtable)= 1.000 | P(diningtable|diningtable)= 1.000 | counts=(538,538)\n",
      " diningtable & person       | coocc= 267 | P(diningtable|person)= 0.065 | P(person|diningtable)= 0.496 | counts=(538,4087)\n",
      " diningtable & pottedplant  | coocc=  80 | P(diningtable|pottedplant)= 0.152 | P(pottedplant|diningtable)= 0.149 | counts=(538,527)\n",
      "         dog & chair        | coocc=  53 | P(dog|chair)= 0.047 | P(chair|dog)= 0.041 | counts=(1286,1119)\n",
      "         dog & dog          | coocc=1286 | P(dog|dog)= 1.000 | P(dog|dog)= 1.000 | counts=(1286,1286)\n",
      "         dog & person       | coocc= 244 | P(dog|person)= 0.060 | P(person|dog)= 0.190 | counts=(1286,4087)\n",
      "         dog & sofa         | coocc=  60 | P(dog|sofa)= 0.118 | P(sofa|dog)= 0.047 | counts=(1286,507)\n",
      "       horse & horse        | coocc= 482 | P(horse|horse)= 1.000 | P(horse|horse)= 1.000 | counts=(482,482)\n",
      "       horse & person       | coocc= 215 | P(horse|person)= 0.053 | P(person|horse)= 0.446 | counts=(482,4087)\n",
      "   motorbike & car          | coocc=  99 | P(motorbike|car)= 0.085 | P(car|motorbike)= 0.188 | counts=(526,1161)\n",
      "   motorbike & motorbike    | coocc= 526 | P(motorbike|motorbike)= 1.000 | P(motorbike|motorbike)= 1.000 | counts=(526,526)\n",
      "   motorbike & person       | coocc= 294 | P(motorbike|person)= 0.072 | P(person|motorbike)= 0.559 | counts=(526,4087)\n",
      "      person & aeroplane    | coocc=  61 | P(person|aeroplane)= 0.091 | P(aeroplane|person)= 0.015 | counts=(4087,670)\n",
      "      person & bicycle      | coocc= 298 | P(person|bicycle)= 0.540 | P(bicycle|person)= 0.073 | counts=(4087,552)\n",
      "      person & boat         | coocc= 158 | P(person|boat)= 0.311 | P(boat|person)= 0.039 | counts=(4087,508)\n",
      "      person & bottle       | coocc= 392 | P(person|bottle)= 0.555 | P(bottle|person)= 0.096 | counts=(4087,706)\n",
      "      person & bus          | coocc= 180 | P(person|bus)= 0.428 | P(bus|person)= 0.044 | counts=(4087,421)\n",
      "      person & car          | coocc= 445 | P(person|car)= 0.383 | P(car|person)= 0.109 | counts=(4087,1161)\n",
      "      person & cat          | coocc=  59 | P(person|cat)= 0.055 | P(cat|person)= 0.014 | counts=(4087,1080)\n",
      "      person & chair        | coocc= 426 | P(person|chair)= 0.381 | P(chair|person)= 0.104 | counts=(4087,1119)\n",
      "      person & diningtable  | coocc= 267 | P(person|diningtable)= 0.496 | P(diningtable|person)= 0.065 | counts=(4087,538)\n",
      "      person & dog          | coocc= 244 | P(person|dog)= 0.190 | P(dog|person)= 0.060 | counts=(4087,1286)\n",
      "      person & horse        | coocc= 215 | P(person|horse)= 0.446 | P(horse|person)= 0.053 | counts=(4087,482)\n",
      "      person & motorbike    | coocc= 294 | P(person|motorbike)= 0.559 | P(motorbike|person)= 0.072 | counts=(4087,526)\n",
      "      person & person       | coocc=4087 | P(person|person)= 1.000 | P(person|person)= 1.000 | counts=(4087,4087)\n",
      "      person & pottedplant  | coocc= 148 | P(person|pottedplant)= 0.281 | P(pottedplant|person)= 0.036 | counts=(4087,527)\n",
      "      person & sofa         | coocc= 189 | P(person|sofa)= 0.373 | P(sofa|person)= 0.046 | counts=(4087,507)\n",
      "      person & train        | coocc= 129 | P(person|train)= 0.237 | P(train|person)= 0.032 | counts=(4087,544)\n",
      "      person & tvmonitor    | coocc= 191 | P(person|tvmonitor)= 0.332 | P(tvmonitor|person)= 0.047 | counts=(4087,575)\n",
      " pottedplant & chair        | coocc= 174 | P(pottedplant|chair)= 0.155 | P(chair|pottedplant)= 0.330 | counts=(527,1119)\n",
      " pottedplant & diningtable  | coocc=  80 | P(pottedplant|diningtable)= 0.149 | P(diningtable|pottedplant)= 0.152 | counts=(527,538)\n",
      " pottedplant & person       | coocc= 148 | P(pottedplant|person)= 0.036 | P(person|pottedplant)= 0.281 | counts=(527,4087)\n",
      " pottedplant & pottedplant  | coocc= 527 | P(pottedplant|pottedplant)= 1.000 | P(pottedplant|pottedplant)= 1.000 | counts=(527,527)\n",
      " pottedplant & sofa         | coocc=  69 | P(pottedplant|sofa)= 0.136 | P(sofa|pottedplant)= 0.131 | counts=(527,507)\n",
      "       sheep & sheep        | coocc= 325 | P(sheep|sheep)= 1.000 | P(sheep|sheep)= 1.000 | counts=(325,325)\n",
      "        sofa & chair        | coocc= 145 | P(sofa|chair)= 0.130 | P(chair|sofa)= 0.286 | counts=(507,1119)\n",
      "        sofa & dog          | coocc=  60 | P(sofa|dog)= 0.047 | P(dog|sofa)= 0.118 | counts=(507,1286)\n",
      "        sofa & person       | coocc= 189 | P(sofa|person)= 0.046 | P(person|sofa)= 0.373 | counts=(507,4087)\n",
      "        sofa & pottedplant  | coocc=  69 | P(sofa|pottedplant)= 0.131 | P(pottedplant|sofa)= 0.136 | counts=(507,527)\n",
      "        sofa & sofa         | coocc= 507 | P(sofa|sofa)= 1.000 | P(sofa|sofa)= 1.000 | counts=(507,507)\n",
      "        sofa & tvmonitor    | coocc=  69 | P(sofa|tvmonitor)= 0.120 | P(tvmonitor|sofa)= 0.136 | counts=(507,575)\n",
      "       train & person       | coocc= 129 | P(train|person)= 0.032 | P(person|train)= 0.237 | counts=(544,4087)\n",
      "       train & train        | coocc= 544 | P(train|train)= 1.000 | P(train|train)= 1.000 | counts=(544,544)\n",
      "   tvmonitor & bottle       | coocc=  61 | P(tvmonitor|bottle)= 0.086 | P(bottle|tvmonitor)= 0.106 | counts=(575,706)\n",
      "   tvmonitor & chair        | coocc= 167 | P(tvmonitor|chair)= 0.149 | P(chair|tvmonitor)= 0.290 | counts=(575,1119)\n",
      "   tvmonitor & person       | coocc= 191 | P(tvmonitor|person)= 0.047 | P(person|tvmonitor)= 0.332 | counts=(575,4087)\n",
      "   tvmonitor & sofa         | coocc=  69 | P(tvmonitor|sofa)= 0.136 | P(sofa|tvmonitor)= 0.120 | counts=(575,507)\n",
      "   tvmonitor & tvmonitor    | coocc= 575 | P(tvmonitor|tvmonitor)= 1.000 | P(tvmonitor|tvmonitor)= 1.000 | counts=(575,575)\n"
     ]
    }
   ],
   "source": [
    "pairs = [\n",
    "    (14, 1),   # person | bicycle\n",
    "    (14, 13),  # person | motorbike\n",
    "    (14, 12),  # person | horse\n",
    "    (8, 10),   # chair  | diningtable\n",
    "]\n",
    "\n",
    "for head in range(20):\n",
    "    for body in range (20):\n",
    "        report_pair(head, body)   # prints coocc and P(head|body)"
   ]
  },
  {
   "cell_type": "code",
   "execution_count": 16,
   "id": "9f3822d8",
   "metadata": {},
   "outputs": [
    {
     "name": "stdout",
     "output_type": "stream",
     "text": [
      "Created slicer for 0 modules (atoms {0, 1, 2, 3, 4, 5, 6, 7, 8, 9, 11, 12, 13, 15, 16, 17, 18, 19})\n",
      "viol_before=0.500  viol_after=0.500\n"
     ]
    }
   ],
   "source": [
    "# knobs\n",
    "tau = 0.7       # confidence gate\n",
    "ratio = 0.5     # curriculum\n",
    "cap = 0.15      # max lift per step\n",
    "\n",
    "probs = preds.clone()\n",
    "\n",
    "goal = (probs > tau).float()\n",
    "slicer = layer.slicer(ratio)\n",
    "\n",
    "probs_cons = layer(probs, goal=goal, slicer=slicer, iterative=True)\n",
    "probs_cons = torch.minimum(probs_cons, probs + cap)  # delta-cap\n",
    "\n",
    "# monitor noise/benefit\n",
    "before_ok = group.coherent_with(probs.cpu().numpy()).mean()\n",
    "after_ok  = group.coherent_with(probs_cons.cpu().numpy()).mean()\n",
    "print(f\"viol_before={1-before_ok:.3f}  viol_after={1-after_ok:.3f}\")\n"
   ]
  },
  {
   "cell_type": "code",
   "execution_count": 3,
   "id": "f27e9a7e",
   "metadata": {},
   "outputs": [
    {
     "name": "stdout",
     "output_type": "stream",
     "text": [
      "Train labels shape: (5717, 23)\n",
      "sun of train labels 13767.0\n",
      " 0 aeroplane    | train=327\n",
      " 1 bicycle      | train=268\n",
      " 2 bird         | train=395\n",
      " 3 boat         | train=260\n",
      " 4 bottle       | train=365\n",
      " 5 bus          | train=213\n",
      " 6 car          | train=590\n",
      " 7 cat          | train=539\n",
      " 8 chair        | train=566\n",
      " 9 cow          | train=151\n",
      "10 diningtable  | train=269\n",
      "11 dog          | train=632\n",
      "12 horse        | train=237\n",
      "13 motorbike    | train=265\n",
      "14 person       | train=1994\n",
      "15 pottedplant  | train=269\n",
      "16 sheep        | train=171\n",
      "17 sofa         | train=257\n",
      "18 train        | train=273\n",
      "19 tvmonitor    | train=290\n",
      "20 vehicle      | train=1992\n",
      "21 animal       | train=2082\n",
      "22 indoor       | train=1362\n"
     ]
    },
    {
     "data": {
      "image/png": "[encoded data removed]",
      "text/plain": [
       "<Figure size 1200x400 with 1 Axes>"
      ]
     },
     "metadata": {},
     "output_type": "display_data"
    }
   ],
   "source": [
    "import numpy as np\n",
    "import matplotlib.pyplot as plt\n",
    "\n",
    "# Load labels (adjust path if needed)\n",
    "spmll_path = \"spmll\"\n",
    "train_labels = np.load(spmll_path + \"/data/pascal/formatted_train_labels_hier.npy\")\n",
    "# val_labels   = np.load(spmll_path + \"/data/pascal/formatted_val_labels.npy\")\n",
    "\n",
    "print(\"Train labels shape:\", train_labels.shape)  # (num_train, 20)\n",
    "# print(\"Val labels shape:\", val_labels.shape)      # (num_val, 20)\n",
    "print(\"sun of train labels\", train_labels.sum())\n",
    "\n",
    "# Count frequency per class\n",
    "train_counts = train_labels.sum(axis=0)\n",
    "# val_counts   = val_labels.sum(axis=0)\n",
    "\n",
    "# Map IDs → names\n",
    "catID_to_catName = {\n",
    "    0: \"aeroplane\",\n",
    "    1: \"bicycle\",\n",
    "    2: \"bird\",\n",
    "    3: \"boat\",\n",
    "    4: \"bottle\",\n",
    "    5: \"bus\",\n",
    "    6: \"car\",\n",
    "    7: \"cat\",\n",
    "    8: \"chair\",\n",
    "    9: \"cow\",\n",
    "    10: \"diningtable\",\n",
    "    11: \"dog\",\n",
    "    12: \"horse\",\n",
    "    13: \"motorbike\",\n",
    "    14: \"person\",\n",
    "    15: \"pottedplant\",\n",
    "    16: \"sheep\",\n",
    "    17: \"sofa\",\n",
    "    18: \"train\",\n",
    "    19: \"tvmonitor\",\n",
    "    20: \"vehicle\",\n",
    "    21: \"animal\",\n",
    "    22: \"indoor\",\n",
    "}\n",
    "\n",
    "# Print counts\n",
    "for i in range(23):\n",
    "    print(f\"{i:2d} {catID_to_catName[i]:12s} | train={int(train_counts[i])}\")\n",
    "\n",
    "# Plot distribution\n",
    "plt.figure(figsize=(12, 4))\n",
    "plt.bar(range(23), train_counts, alpha=0.7, label=\"train\")\n",
    "# plt.bar(range(20), val_counts, alpha=0.7, label=\"val\")\n",
    "plt.xticks(range(23), [catID_to_catName[i] for i in range(23)], rotation=45)\n",
    "plt.ylabel(\"Number of images with class\")\n",
    "plt.legend()\n",
    "plt.title(\"Pascal VOC Class Distribution\")\n",
    "plt.show()"
   ]
  },
  {
   "cell_type": "code",
   "execution_count": 4,
   "id": "e8ac717a",
   "metadata": {},
   "outputs": [
    {
     "name": "stdout",
     "output_type": "stream",
     "text": [
      "Train labels obs shape: (5717, 23)\n",
      " 0 aeroplane    | train=173\n",
      " 1 bicycle      | train=92\n",
      " 2 bird         | train=188\n",
      " 3 boat         | train=106\n",
      " 4 bottle       | train=123\n",
      " 5 bus          | train=80\n",
      " 6 car          | train=240\n",
      " 7 cat          | train=231\n",
      " 8 chair        | train=164\n",
      " 9 cow          | train=65\n",
      "10 diningtable  | train=69\n",
      "11 dog          | train=250\n",
      "12 horse        | train=99\n",
      "13 motorbike    | train=114\n",
      "14 person       | train=982\n",
      "15 pottedplant  | train=95\n",
      "16 sheep        | train=67\n",
      "17 sofa         | train=88\n",
      "18 train        | train=118\n",
      "19 tvmonitor    | train=100\n",
      "20 vehicle      | train=828\n",
      "21 animal       | train=970\n",
      "22 indoor       | train=475\n"
     ]
    },
    {
     "data": {
      "image/png": "[encoded data removed]",
      "text/plain": [
       "<Figure size 1200x400 with 1 Axes>"
      ]
     },
     "metadata": {},
     "output_type": "display_data"
    }
   ],
   "source": [
    "import numpy as np\n",
    "import matplotlib.pyplot as plt\n",
    "\n",
    "train_labels = np.load(spmll_path + \"/data/pascal/formatted_train_labels_obs.npy\")\n",
    "print(\"Train labels obs shape:\", train_labels.shape)  # (num_train, 20)\n",
    "\n",
    "\n",
    "# Count frequency per class\n",
    "train_counts = train_labels.sum(axis=0)\n",
    "# val_counts   = val_labels.sum(axis=0)\n",
    "\n",
    "# Map IDs → names\n",
    "catID_to_catName = {\n",
    "    0: \"aeroplane\",\n",
    "    1: \"bicycle\",\n",
    "    2: \"bird\",\n",
    "    3: \"boat\",\n",
    "    4: \"bottle\",\n",
    "    5: \"bus\",\n",
    "    6: \"car\",\n",
    "    7: \"cat\",\n",
    "    8: \"chair\",\n",
    "    9: \"cow\",\n",
    "    10: \"diningtable\",\n",
    "    11: \"dog\",\n",
    "    12: \"horse\",\n",
    "    13: \"motorbike\",\n",
    "    14: \"person\",\n",
    "    15: \"pottedplant\",\n",
    "    16: \"sheep\",\n",
    "    17: \"sofa\",\n",
    "    18: \"train\",\n",
    "    19: \"tvmonitor\",\n",
    "    20: \"vehicle\",\n",
    "    21: \"animal\",\n",
    "    22: \"indoor\",\n",
    "}\n",
    "\n",
    "# Print counts\n",
    "for i in range(23):\n",
    "    print(f\"{i:2d} {catID_to_catName[i]:12s} | train={int(train_counts[i])}\")\n",
    "\n",
    "# Plot distribution\n",
    "plt.figure(figsize=(12,4))\n",
    "plt.bar(range(23), train_counts, alpha=0.7, label=\"train\")\n",
    "# plt.bar(range(20), val_counts, alpha=0.7, label=\"val\")\n",
    "plt.xticks(range(23), [catID_to_catName[i] for i in range(23)], rotation=45)\n",
    "plt.ylabel(\"Number of images with class\")\n",
    "plt.legend()\n",
    "plt.title(\"Pascal VOC Class Distribution Observed\")\n",
    "plt.show()\n",
    "\n"
   ]
  },
  {
   "cell_type": "code",
   "execution_count": null,
   "id": "1f933963",
   "metadata": {},
   "outputs": [
    {
     "data": {
      "text/plain": [
       "5717.0"
      ]
     },
     "execution_count": 4,
     "metadata": {},
     "output_type": "execute_result"
    }
   ],
   "source": [
    "train_labels.sum()"
   ]
  },
  {
   "cell_type": "code",
   "execution_count": null,
   "id": "42df4155",
   "metadata": {},
   "outputs": [],
   "source": []
  }
 ],
 "metadata": {
  "kernelspec": {
   "display_name": "venv",
   "language": "python",
   "name": "python3"
  },
  "language_info": {
   "codemirror_mode": {
    "name": "ipython",
    "version": 3
   },
   "file_extension": ".py",
   "mimetype": "text/x-python",
   "name": "python",
   "nbconvert_exporter": "python",
   "pygments_lexer": "ipython3",
   "version": "3.10.0"
  }
 },
 "nbformat": 4,
 "nbformat_minor": 5
}
